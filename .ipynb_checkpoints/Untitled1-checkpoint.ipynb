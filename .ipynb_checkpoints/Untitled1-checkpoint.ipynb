{
 "cells": [
  {
   "cell_type": "code",
   "execution_count": 3,
   "id": "ff2b00ad-5183-4dbd-965c-7984e94cfd3d",
   "metadata": {},
   "outputs": [
    {
     "name": "stderr",
     "output_type": "stream",
     "text": [
      "/home/apinto/anaconda3/envs/ag/lib/python3.11/site-packages/tqdm/auto.py:21: TqdmWarning: IProgress not found. Please update jupyter and ipywidgets. See https://ipywidgets.readthedocs.io/en/stable/user_install.html\n",
      "  from .autonotebook import tqdm as notebook_tqdm\n",
      "Fetching 8 files:   0%|                                                                     | 0/8 [00:00<?, ?it/s]\n",
      "vocab.txt:   0%|                                                                       | 0.00/232k [00:00<?, ?B/s]\u001b[A\n",
      "\n",
      "tokenizer_config.json: 100%|█████████████████████████████████████████████████| 1.24k/1.24k [00:00<00:00, 19.1MB/s]\u001b[A\u001b[A\n",
      "\n",
      "\n",
      "special_tokens_map.json: 100%|███████████████████████████████████████████████████| 695/695 [00:00<00:00, 11.4MB/s]\u001b[A\u001b[A\n",
      "\n",
      "\n",
      "config.json: 100%|███████████████████████████████████████████████████████████████| 740/740 [00:00<00:00, 4.17MB/s]\u001b[A\u001b[A\n",
      "\n",
      "\n",
      "tokenizer.json:   0%|                                                                  | 0.00/711k [00:00<?, ?B/s]\u001b[A\u001b[A\n",
      "vocab.txt: 100%|███████████████████████████████████████████████████████████████| 232k/232k [00:00<00:00, 1.94MB/s]\u001b[A\n",
      "\n",
      "ort_config.json: 100%|███████████████████████████████████████████████████████| 1.27k/1.27k [00:00<00:00, 18.1MB/s]\u001b[A\n",
      "\n",
      "model_optimized.onnx:   0%|                                                            | 0.00/218M [00:00<?, ?B/s]\u001b[A\n",
      "\n",
      "\n",
      ".gitattributes: 100%|████████████████████████████████████████████████████████| 1.52k/1.52k [00:00<00:00, 16.3MB/s]\u001b[A\u001b[A\u001b[A\n",
      "Fetching 8 files:  12%|███████▋                                                     | 1/8 [00:00<00:04,  1.48it/s]\n",
      "\n",
      "tokenizer.json: 100%|██████████████████████████████████████████████████████████| 711k/711k [00:00<00:00, 2.35MB/s]\u001b[A\u001b[A\n",
      "\n",
      "model_optimized.onnx:   5%|██▍                                                | 10.5M/218M [00:00<00:05, 36.5MB/s]\u001b[A\n",
      "model_optimized.onnx:  10%|████▉                                              | 21.0M/218M [00:00<00:05, 35.6MB/s]\u001b[A\n",
      "model_optimized.onnx:  14%|███████▎                                           | 31.5M/218M [00:00<00:05, 36.2MB/s]\u001b[A\n",
      "model_optimized.onnx:  19%|█████████▊                                         | 41.9M/218M [00:01<00:04, 37.6MB/s]\u001b[A\n",
      "model_optimized.onnx:  24%|████████████▎                                      | 52.4M/218M [00:01<00:04, 37.7MB/s]\u001b[A\n",
      "model_optimized.onnx:  29%|██████████████▋                                    | 62.9M/218M [00:01<00:04, 37.9MB/s]\u001b[A\n",
      "model_optimized.onnx:  34%|█████████████████▏                                 | 73.4M/218M [00:01<00:03, 37.9MB/s]\u001b[A\n",
      "model_optimized.onnx:  39%|███████████████████▋                               | 83.9M/218M [00:02<00:03, 38.0MB/s]\u001b[A\n",
      "model_optimized.onnx:  43%|██████████████████████                             | 94.4M/218M [00:02<00:03, 38.0MB/s]\u001b[A\n",
      "model_optimized.onnx:  48%|█████████████████████████                           | 105M/218M [00:02<00:03, 37.4MB/s]\u001b[A\n",
      "model_optimized.onnx:  53%|███████████████████████████▌                        | 115M/218M [00:03<00:02, 38.3MB/s]\u001b[A\n",
      "model_optimized.onnx:  58%|██████████████████████████████                      | 126M/218M [00:03<00:02, 37.4MB/s]\u001b[A\n",
      "model_optimized.onnx:  63%|████████████████████████████████▌                   | 136M/218M [00:03<00:02, 38.2MB/s]\u001b[A\n",
      "model_optimized.onnx:  67%|███████████████████████████████████                 | 147M/218M [00:03<00:01, 37.6MB/s]\u001b[A\n",
      "model_optimized.onnx:  72%|█████████████████████████████████████▌              | 157M/218M [00:04<00:01, 38.5MB/s]\u001b[A\n",
      "model_optimized.onnx:  77%|████████████████████████████████████████            | 168M/218M [00:04<00:01, 37.9MB/s]\u001b[A\n",
      "model_optimized.onnx:  82%|██████████████████████████████████████████▌         | 178M/218M [00:04<00:01, 37.7MB/s]\u001b[A\n",
      "model_optimized.onnx:  87%|█████████████████████████████████████████████       | 189M/218M [00:04<00:00, 38.2MB/s]\u001b[A\n",
      "model_optimized.onnx:  91%|███████████████████████████████████████████████▌    | 199M/218M [00:05<00:00, 38.6MB/s]\u001b[A\n",
      "model_optimized.onnx:  96%|██████████████████████████████████████████████████  | 210M/218M [00:05<00:00, 38.4MB/s]\u001b[A\n",
      "model_optimized.onnx: 100%|████████████████████████████████████████████████████| 218M/218M [00:05<00:00, 37.9MB/s]\u001b[A\n",
      "Fetching 8 files: 100%|█████████████████████████████████████████████████████████████| 8/8 [00:06<00:00,  1.28it/s]\n"
     ]
    }
   ],
   "source": [
    "import logging\n",
    "import sys\n",
    "import os\n",
    "\n",
    "import qdrant_client\n",
    "from IPython.display import Markdown, display\n",
    "from llama_index.core import VectorStoreIndex, SimpleDirectoryReader\n",
    "from llama_index.core import StorageContext\n",
    "from llama_index.vector_stores.qdrant import QdrantVectorStore\n",
    "from llama_index.embeddings.fastembed import FastEmbedEmbedding\n",
    "from llama_index.core import Settings\n",
    "\n",
    "Settings.embed_model = FastEmbedEmbedding(model_name=\"BAAI/bge-base-en-v1.5\")"
   ]
  },
  {
   "cell_type": "code",
   "execution_count": null,
   "id": "3b9dc9f7-23e7-497d-be00-e4ca4c51a204",
   "metadata": {},
   "outputs": [],
   "source": [
    "!pip install -U qdrant_client fastembed"
   ]
  },
  {
   "cell_type": "code",
   "execution_count": 4,
   "id": "0de18e6a-475d-4999-9162-11ed6a25389f",
   "metadata": {},
   "outputs": [],
   "source": [
    "# load documents\n",
    "SimpleDirectoryReader\n",
    "documents = SimpleDirectoryReader(\"/home/apinto/Documents/transcripts-2024/transcripts\").load_data()"
   ]
  },
  {
   "cell_type": "code",
   "execution_count": 10,
   "id": "57317d82-d531-4c95-ad28-b6ffa2fedb8f",
   "metadata": {},
   "outputs": [
    {
     "name": "stdout",
     "output_type": "stream",
     "text": [
      "None\n"
     ]
    }
   ],
   "source": [
    "print(os.environ.get('QDRAND_API_KEY'))"
   ]
  },
  {
   "cell_type": "code",
   "execution_count": null,
   "id": "3e494b1f-3c28-4449-961a-b2c4fe8fece2",
   "metadata": {},
   "outputs": [],
   "source": []
  }
 ],
 "metadata": {
  "kernelspec": {
   "display_name": "Python 3 (ipykernel)",
   "language": "python",
   "name": "python3"
  },
  "language_info": {
   "codemirror_mode": {
    "name": "ipython",
    "version": 3
   },
   "file_extension": ".py",
   "mimetype": "text/x-python",
   "name": "python",
   "nbconvert_exporter": "python",
   "pygments_lexer": "ipython3",
   "version": "3.11.8"
  }
 },
 "nbformat": 4,
 "nbformat_minor": 5
}
